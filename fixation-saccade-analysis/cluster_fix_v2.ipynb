{
 "cells": [
  {
   "cell_type": "code",
   "execution_count": 7,
   "metadata": {},
   "outputs": [
    {
     "name": "stdout",
     "output_type": "stream",
     "text": [
      "Index(['section id', 'recording id', 'timestamp [ns]', 'gaze x [px]',\n",
      "       'gaze y [px]', 'worn', 'fixation id', 'blink id', 'folder_id'],\n",
      "      dtype='object')\n",
      "Index(['index', 'section id', 'recording id', 'timestamp [ns]', 'gaze x [px]',\n",
      "       'gaze y [px]', 'worn', 'fixation id', 'blink id',\n",
      "       'timestamp [ns]_for_grouping', 'ref_center_x', 'ref_center_y',\n",
      "       'ref_coordinates', 'tag', 'ts', 'increment_marker', 'seconds_id',\n",
      "       'participant_folder', 'art_piece', 'participant_id'],\n",
      "      dtype='object')\n"
     ]
    }
   ],
   "source": [
    "import os\n",
    "import pandas as pd\n",
    "import numpy as np\n",
    "import matplotlib.pyplot as plt\n",
    "from sklearn.cluster import KMeans\n",
    "import numpy as np\n",
    "import sys\n",
    "import warnings\n",
    "import numpy as np\n",
    "from scipy.signal import filtfilt\n",
    "from scipy.signal import firwin\n",
    "from scipy.signal import resample\n",
    "warnings.filterwarnings('ignore')\n",
    "\n",
    "DATA_PATH = '/workspaces/Tracking-Gazes-on-Museum-Pieces-Data-Plus/data'\n",
    "\n",
    "def concat_df(DATA_PATH):\n",
    "    df = pd.DataFrame()\n",
    "    for folder in os.listdir(DATA_PATH):\n",
    "        if not os.path.isdir(os.path.join(DATA_PATH, folder)):\n",
    "            continue\n",
    "        temp_path = os.path.join(DATA_PATH, folder, 'gaze.csv')\n",
    "        temp_df = pd.read_csv(temp_path)\n",
    "        temp_df['folder_id'] = folder\n",
    "        df = pd.concat([df, temp_df])\n",
    "    return df\n",
    "\n",
    "\"\"\"\n",
    "print('Participant count', gaze_df['section id'].nunique())\n",
    "gaze_df = pd.merge(demographic_data, gaze_df, left_on='codice_eyetr_museo', right_on='folder_id', how='right')\n",
    "gaze_df.replace({'m': 0, 'f': 1}, inplace=True)\n",
    "print('Row count', gaze_df.shape[0])\n",
    "print('Participant count', gaze_df['section id'].nunique())\n",
    "print('Participant count', gaze_df['codice_eyetr_museo'].nunique())\n",
    "display(gaze_df.head())\n",
    "\"\"\"\n",
    "\n",
    "demographic_data = pd.read_excel(os.path.join(DATA_PATH, 'demographic.xlsx'))\n",
    "orig_data = concat_df(DATA_PATH)\n",
    "modified_data = pd.read_csv(os.path.join(DATA_PATH, 'all_gaze.csv'), compression='gzip')\n",
    "print(orig_data.columns)\n",
    "print(modified_data.columns)\n",
    "# keep_columns = ['timestamp [ns]_for_grouping', 'participant_folder', 'ref_center_x', 'ref_center_y']\n",
    "# modified_data = modified_data[keep_columns]"
   ]
  },
  {
   "cell_type": "code",
   "execution_count": 9,
   "metadata": {},
   "outputs": [
    {
     "ename": "ValueError",
     "evalue": "Invalid cutoff frequency: frequencies must be greater than 0 and less than fs/2.",
     "output_type": "error",
     "traceback": [
      "\u001b[0;31m---------------------------------------------------------------------------\u001b[0m",
      "\u001b[0;31mValueError\u001b[0m                                Traceback (most recent call last)",
      "Cell \u001b[0;32mIn[9], line 52\u001b[0m\n\u001b[1;32m     48\u001b[0m                 points[:, ii] \u001b[39m=\u001b[39m points[:, ii] \u001b[39m/\u001b[39m np\u001b[39m.\u001b[39mmax(points[:, ii])\n\u001b[1;32m     50\u001b[0m     \u001b[39mreturn\u001b[39;00m eyedat        \n\u001b[0;32m---> 52\u001b[0m modified_data \u001b[39m=\u001b[39m modified_data\u001b[39m.\u001b[39;49mgroupby(\u001b[39m'\u001b[39;49m\u001b[39mparticipant_folder\u001b[39;49m\u001b[39m'\u001b[39;49m)\u001b[39m.\u001b[39;49mapply(cluster_fix)\u001b[39m.\u001b[39mreset_index(drop\u001b[39m=\u001b[39m\u001b[39mTrue\u001b[39;00m)\n",
      "File \u001b[0;32m~/.local/lib/python3.10/site-packages/pandas/core/groupby/groupby.py:1353\u001b[0m, in \u001b[0;36mGroupBy.apply\u001b[0;34m(self, func, *args, **kwargs)\u001b[0m\n\u001b[1;32m   1351\u001b[0m \u001b[39mwith\u001b[39;00m option_context(\u001b[39m\"\u001b[39m\u001b[39mmode.chained_assignment\u001b[39m\u001b[39m\"\u001b[39m, \u001b[39mNone\u001b[39;00m):\n\u001b[1;32m   1352\u001b[0m     \u001b[39mtry\u001b[39;00m:\n\u001b[0;32m-> 1353\u001b[0m         result \u001b[39m=\u001b[39m \u001b[39mself\u001b[39;49m\u001b[39m.\u001b[39;49m_python_apply_general(f, \u001b[39mself\u001b[39;49m\u001b[39m.\u001b[39;49m_selected_obj)\n\u001b[1;32m   1354\u001b[0m     \u001b[39mexcept\u001b[39;00m \u001b[39mTypeError\u001b[39;00m:\n\u001b[1;32m   1355\u001b[0m         \u001b[39m# gh-20949\u001b[39;00m\n\u001b[1;32m   1356\u001b[0m         \u001b[39m# try again, with .apply acting as a filtering\u001b[39;00m\n\u001b[0;32m   (...)\u001b[0m\n\u001b[1;32m   1360\u001b[0m         \u001b[39m# fails on *some* columns, e.g. a numeric operation\u001b[39;00m\n\u001b[1;32m   1361\u001b[0m         \u001b[39m# on a string grouper column\u001b[39;00m\n\u001b[1;32m   1363\u001b[0m         \u001b[39mreturn\u001b[39;00m \u001b[39mself\u001b[39m\u001b[39m.\u001b[39m_python_apply_general(f, \u001b[39mself\u001b[39m\u001b[39m.\u001b[39m_obj_with_exclusions)\n",
      "File \u001b[0;32m~/.local/lib/python3.10/site-packages/pandas/core/groupby/groupby.py:1402\u001b[0m, in \u001b[0;36mGroupBy._python_apply_general\u001b[0;34m(self, f, data, not_indexed_same, is_transform, is_agg)\u001b[0m\n\u001b[1;32m   1367\u001b[0m \u001b[39m@final\u001b[39m\n\u001b[1;32m   1368\u001b[0m \u001b[39mdef\u001b[39;00m \u001b[39m_python_apply_general\u001b[39m(\n\u001b[1;32m   1369\u001b[0m     \u001b[39mself\u001b[39m,\n\u001b[0;32m   (...)\u001b[0m\n\u001b[1;32m   1374\u001b[0m     is_agg: \u001b[39mbool\u001b[39m \u001b[39m=\u001b[39m \u001b[39mFalse\u001b[39;00m,\n\u001b[1;32m   1375\u001b[0m ) \u001b[39m-\u001b[39m\u001b[39m>\u001b[39m NDFrameT:\n\u001b[1;32m   1376\u001b[0m \u001b[39m    \u001b[39m\u001b[39m\"\"\"\u001b[39;00m\n\u001b[1;32m   1377\u001b[0m \u001b[39m    Apply function f in python space\u001b[39;00m\n\u001b[1;32m   1378\u001b[0m \n\u001b[0;32m   (...)\u001b[0m\n\u001b[1;32m   1400\u001b[0m \u001b[39m        data after applying f\u001b[39;00m\n\u001b[1;32m   1401\u001b[0m \u001b[39m    \"\"\"\u001b[39;00m\n\u001b[0;32m-> 1402\u001b[0m     values, mutated \u001b[39m=\u001b[39m \u001b[39mself\u001b[39;49m\u001b[39m.\u001b[39;49mgrouper\u001b[39m.\u001b[39;49mapply(f, data, \u001b[39mself\u001b[39;49m\u001b[39m.\u001b[39;49maxis)\n\u001b[1;32m   1403\u001b[0m     \u001b[39mif\u001b[39;00m not_indexed_same \u001b[39mis\u001b[39;00m \u001b[39mNone\u001b[39;00m:\n\u001b[1;32m   1404\u001b[0m         not_indexed_same \u001b[39m=\u001b[39m mutated\n",
      "File \u001b[0;32m~/.local/lib/python3.10/site-packages/pandas/core/groupby/ops.py:767\u001b[0m, in \u001b[0;36mBaseGrouper.apply\u001b[0;34m(self, f, data, axis)\u001b[0m\n\u001b[1;32m    765\u001b[0m \u001b[39m# group might be modified\u001b[39;00m\n\u001b[1;32m    766\u001b[0m group_axes \u001b[39m=\u001b[39m group\u001b[39m.\u001b[39maxes\n\u001b[0;32m--> 767\u001b[0m res \u001b[39m=\u001b[39m f(group)\n\u001b[1;32m    768\u001b[0m \u001b[39mif\u001b[39;00m \u001b[39mnot\u001b[39;00m mutated \u001b[39mand\u001b[39;00m \u001b[39mnot\u001b[39;00m _is_indexed_like(res, group_axes, axis):\n\u001b[1;32m    769\u001b[0m     mutated \u001b[39m=\u001b[39m \u001b[39mTrue\u001b[39;00m\n",
      "Cell \u001b[0;32mIn[9], line 8\u001b[0m, in \u001b[0;36mcluster_fix\u001b[0;34m(eyedat)\u001b[0m\n\u001b[1;32m      6\u001b[0m lowpasfrq \u001b[39m=\u001b[39m \u001b[39m30\u001b[39m\n\u001b[1;32m      7\u001b[0m nyqfrq \u001b[39m=\u001b[39m \u001b[39m1000\u001b[39m \u001b[39m/\u001b[39m \u001b[39m2\u001b[39m\n\u001b[0;32m----> 8\u001b[0m flt \u001b[39m=\u001b[39m firwin(fltord, [\u001b[39m0\u001b[39;49m, lowpasfrq\u001b[39m/\u001b[39;49mnyqfrq, lowpasfrq\u001b[39m/\u001b[39;49mnyqfrq, \u001b[39m1\u001b[39;49m], pass_zero\u001b[39m=\u001b[39;49m\u001b[39mFalse\u001b[39;49;00m)  \u001b[39m# 30 Hz low pass filter\u001b[39;00m\n\u001b[1;32m      9\u001b[0m \u001b[39mprint\u001b[39m(flt)\n\u001b[1;32m     10\u001b[0m buffer \u001b[39m=\u001b[39m \u001b[39m100\u001b[39m\u001b[39m/\u001b[39msamprate\u001b[39m/\u001b[39m\u001b[39m1000\u001b[39m  \u001b[39m# 100 ms buffer for filtering\u001b[39;00m\n",
      "File \u001b[0;32m~/.local/lib/python3.10/site-packages/scipy/signal/_fir_filter_design.py:405\u001b[0m, in \u001b[0;36mfirwin\u001b[0;34m(numtaps, cutoff, width, window, pass_zero, scale, nyq, fs)\u001b[0m\n\u001b[1;32m    403\u001b[0m     \u001b[39mraise\u001b[39;00m \u001b[39mValueError\u001b[39;00m(\u001b[39m\"\u001b[39m\u001b[39mAt least one cutoff frequency must be given.\u001b[39m\u001b[39m\"\u001b[39m)\n\u001b[1;32m    404\u001b[0m \u001b[39mif\u001b[39;00m cutoff\u001b[39m.\u001b[39mmin() \u001b[39m<\u001b[39m\u001b[39m=\u001b[39m \u001b[39m0\u001b[39m \u001b[39mor\u001b[39;00m cutoff\u001b[39m.\u001b[39mmax() \u001b[39m>\u001b[39m\u001b[39m=\u001b[39m \u001b[39m1\u001b[39m:\n\u001b[0;32m--> 405\u001b[0m     \u001b[39mraise\u001b[39;00m \u001b[39mValueError\u001b[39;00m(\u001b[39m\"\u001b[39m\u001b[39mInvalid cutoff frequency: frequencies must be \u001b[39m\u001b[39m\"\u001b[39m\n\u001b[1;32m    406\u001b[0m                      \u001b[39m\"\u001b[39m\u001b[39mgreater than 0 and less than fs/2.\u001b[39m\u001b[39m\"\u001b[39m)\n\u001b[1;32m    407\u001b[0m \u001b[39mif\u001b[39;00m np\u001b[39m.\u001b[39many(np\u001b[39m.\u001b[39mdiff(cutoff) \u001b[39m<\u001b[39m\u001b[39m=\u001b[39m \u001b[39m0\u001b[39m):\n\u001b[1;32m    408\u001b[0m     \u001b[39mraise\u001b[39;00m \u001b[39mValueError\u001b[39;00m(\u001b[39m\"\u001b[39m\u001b[39mInvalid cutoff frequencies: the frequencies \u001b[39m\u001b[39m\"\u001b[39m\n\u001b[1;32m    409\u001b[0m                      \u001b[39m\"\u001b[39m\u001b[39mmust be strictly increasing.\u001b[39m\u001b[39m\"\u001b[39m)\n",
      "\u001b[0;31mValueError\u001b[0m: Invalid cutoff frequency: frequencies must be greater than 0 and less than fs/2."
     ]
    }
   ],
   "source": [
    "def cluster_fix(eyedat):\n",
    "    samprate = 5/1000  # in secs e.g. 200 Hz -> 5 ms/sample -> 5/1000\n",
    "    variables = ['Dist', 'Vel', 'Accel', 'Angular Velocity']  # parameters to be extracted\n",
    "\n",
    "\n",
    "\n",
    "    for cndlop in range(len(eyedat)):\n",
    "        if eyedat[cndlop].shape[1] > 500/samprate/1000:\n",
    "            # --- Filtering Extract Parameters from Eye Traces --- #\n",
    "            x = eyedat[cndlop][0, :]  # *24+400;  # converts dva to pixel and data from [-400,400] to [0,800]\n",
    "            y = eyedat[cndlop][1, :]  # *24+300;  # converts dva to pixel and from [-300,300] to [0,600]\n",
    "            x = np.concatenate((x[buffer::-1], x, x[-1:-buffer-1:-1]))  # add buffer for filtering\n",
    "            y = np.concatenate((y[buffer::-1], y, y[-1:-buffer-1:-1]))  # add buffer for filtering\n",
    "            x = resample(x, int(samprate*1000), 1)  # up sample to 1000 Hz\n",
    "            y = resample(y, int(samprate*1000), 1)  # up sample to 1000 Hz\n",
    "            xss = filtfilt(flt, 1, x)\n",
    "            yss = filtfilt(flt, 1, y)\n",
    "            xss = xss[100:-100]  # remove buffer after filtering\n",
    "            yss = yss[100:-100]  # remove buffer after filtering\n",
    "            x = x[100:-100]  # remove buffer after filtering\n",
    "            y = y[100:-100]  # remove buffer after filtering\n",
    "            velx = np.diff(xss)\n",
    "            vely = np.diff(yss)\n",
    "            vel = np.sqrt(velx**2 + vely**2)  # velocity\n",
    "            accel = np.abs(np.diff(vel))  # acceleration\n",
    "            angle = 180*np.arctan2(vely, velx)/np.pi\n",
    "            vel = vel[:-1]\n",
    "            rot = np.zeros(len(xss)-2)  # angular velocity\n",
    "            dist = np.zeros(len(xss)-2)  # distance\n",
    "            for a in range(len(xss)-2):\n",
    "                rot[a] = np.abs(angle[a] - angle[a+1])\n",
    "                dist[a] = np.sqrt((xss[a] - xss[a+2])**2 + (yss[a] - yss[a+2])**2)\n",
    "\n",
    "            rot[rot > 180] = rot[rot > 180] - 180\n",
    "            rot = 360 - rot  # want angular velocity to be small so fixation values are all small\n",
    "\n",
    "            points = np.column_stack((dist, vel, accel, rot))\n",
    "            for ii in range(points.shape[1]):\n",
    "                thresh = np.mean(points[:, ii]) + 3 * np.std(points[:, ii])  # move outliers\n",
    "                points[points[:, ii] > thresh, ii] = thresh\n",
    "                points[:, ii] = points[:, ii] - np.min(points[:, ii])\n",
    "                points[:, ii] = points[:, ii] / np.max(points[:, ii])\n",
    "\n",
    "    return eyedat        \n",
    "\n",
    "modified_data = modified_data.groupby('participant_folder').apply(cluster_fix).reset_index(drop=True)"
   ]
  },
  {
   "cell_type": "code",
   "execution_count": null,
   "metadata": {},
   "outputs": [],
   "source": []
  }
 ],
 "metadata": {
  "kernelspec": {
   "display_name": "Python 3",
   "language": "python",
   "name": "python3"
  },
  "language_info": {
   "codemirror_mode": {
    "name": "ipython",
    "version": 3
   },
   "file_extension": ".py",
   "mimetype": "text/x-python",
   "name": "python",
   "nbconvert_exporter": "python",
   "pygments_lexer": "ipython3",
   "version": "3.10.4"
  },
  "orig_nbformat": 4
 },
 "nbformat": 4,
 "nbformat_minor": 2
}
